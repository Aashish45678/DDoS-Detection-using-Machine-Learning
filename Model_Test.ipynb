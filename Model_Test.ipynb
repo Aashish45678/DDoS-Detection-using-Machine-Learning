{
 "cells": [
  {
   "cell_type": "code",
   "execution_count": 1,
   "metadata": {},
   "outputs": [],
   "source": [
    "import tensorflow as tf\n",
    "from tensorflow.keras.models import load_model\n",
    "from sklearn.preprocessing import MinMaxScaler\n",
    "from sklearn.metrics import accuracy_score, confusion_matrix, classification_report\n",
    "import pandas as pd\n",
    "import numpy as np\n",
    "import joblib\n",
    "import matplotlib.pyplot as plt\n",
    "import seaborn as sns"
   ]
  },
  {
   "cell_type": "code",
   "execution_count": 2,
   "metadata": {},
   "outputs": [
    {
     "name": "stderr",
     "output_type": "stream",
     "text": [
      "WARNING:absl:Compiled the loaded model, but the compiled metrics have yet to be built. `model.compile_metrics` will be empty until you train or evaluate the model.\n"
     ]
    }
   ],
   "source": [
    "# Load trained model and scaler\n",
    "model = load_model(\"./All_lstm_ddos_model.h5\")\n",
    "scaler = joblib.load(\"./All_scaler.pkl\")"
   ]
  },
  {
   "cell_type": "code",
   "execution_count": null,
   "metadata": {},
   "outputs": [],
   "source": [
    "# Load and select top 20 features\n",
    "# feature_importance_df = pd.read_csv(\"top_features.csv\")\n",
    "# top_features = feature_importance_df['Feature'].head(20).tolist()"
   ]
  },
  {
   "cell_type": "code",
   "execution_count": 4,
   "metadata": {},
   "outputs": [],
   "source": [
    "# Load new dataset for testing\n",
    "test_df = pd.read_csv(\"../../Model Training WIthout Sampling/Model_Train.csv\") "
   ]
  },
  {
   "cell_type": "code",
   "execution_count": 5,
   "metadata": {},
   "outputs": [],
   "source": [
    "# Remove the spaces before the column names\n",
    "test_df.columns = test_df.columns.str.strip()\n",
    "\n",
    "## Removing the null values\n",
    "data2_f=test_df.dropna()\n",
    "\n",
    "# Replace inf and -inf with NaN in the DataFrame\n",
    "data2_f = data2_f.replace([float('inf'), float('-inf')], pd.NA)\n",
    "\n",
    "# Check for NaN values\n",
    "null_values = data2_f.isnull().sum()"
   ]
  },
  {
   "cell_type": "code",
   "execution_count": 6,
   "metadata": {},
   "outputs": [],
   "source": [
    "data2_f['Label'] = data2_f['Label'].map({'BENIGN': 0, 'DDoS': 1})"
   ]
  },
  {
   "cell_type": "code",
   "execution_count": 8,
   "metadata": {},
   "outputs": [
    {
     "name": "stderr",
     "output_type": "stream",
     "text": [
      "C:\\Users\\LEGION\\AppData\\Local\\Temp\\ipykernel_42852\\1751523323.py:1: FutureWarning: Downcasting object dtype arrays on .fillna, .ffill, .bfill is deprecated and will change in a future version. Call result.infer_objects(copy=False) instead. To opt-in to the future behavior, set `pd.set_option('future.no_silent_downcasting', True)`\n",
      "  data2_f.fillna(data2_f.mean(), inplace=True)  # Fill numeric NaNs with mean\n"
     ]
    },
    {
     "name": "stdout",
     "output_type": "stream",
     "text": [
      "Total NaN values after fix: 0\n"
     ]
    }
   ],
   "source": [
    "\n",
    "data2_f.fillna(data2_f.mean(), inplace=True)  # Fill numeric NaNs with mean\n",
    "\n",
    "\n",
    "# Verify that all NaNs are removed\n",
    "print(\"Total NaN values after fix:\", data2_f.isna().sum().sum())  # Should print 0"
   ]
  },
  {
   "cell_type": "code",
   "execution_count": 9,
   "metadata": {},
   "outputs": [],
   "source": [
    "# Ensure dataset has the required features\n",
    "X_test = data2_f.drop('Label', axis=1)\n",
    "y_test = data2_f[\"Label\"]  # Assuming \"Label\" column contains ground truth\n",
    "\n",
    "# Normalize using the previously saved scaler\n",
    "X_test_scaled = scaler.transform(X_test)"
   ]
  },
  {
   "cell_type": "code",
   "execution_count": 10,
   "metadata": {},
   "outputs": [],
   "source": [
    "\n",
    "def create_sequences(X, y, time_steps=10):\n",
    "    Xs, ys = [], []\n",
    "    y = np.array(y)  # Ensure y is a NumPy array\n",
    "    for i in range(len(X) - time_steps):\n",
    "        Xs.append(X[i : i + time_steps])\n",
    "        ys.append(y[i + time_steps])  # Now indexing works properly\n",
    "    return np.array(Xs), np.array(ys)\n",
    "X_test_seq, y_test_seq = create_sequences(X_test_scaled, y_test, time_steps=10)"
   ]
  },
  {
   "cell_type": "code",
   "execution_count": 11,
   "metadata": {},
   "outputs": [
    {
     "name": "stdout",
     "output_type": "stream",
     "text": [
      "\u001b[1m21615/21615\u001b[0m \u001b[32m━━━━━━━━━━━━━━━━━━━━\u001b[0m\u001b[37m\u001b[0m \u001b[1m37s\u001b[0m 2ms/step\n"
     ]
    }
   ],
   "source": [
    "# Make predictions\n",
    "y_pred = (model.predict(X_test_seq) > 0.5).astype(\"int32\")"
   ]
  },
  {
   "cell_type": "code",
   "execution_count": 12,
   "metadata": {},
   "outputs": [
    {
     "data": {
      "image/png": "[encoded data removed]",
      "text/plain": [
       "<Figure size 600x400 with 2 Axes>"
      ]
     },
     "metadata": {},
     "output_type": "display_data"
    },
    {
     "name": "stdout",
     "output_type": "stream",
     "text": [
      "Classification Report:\n",
      "              precision    recall  f1-score   support\n",
      "\n",
      "           0       0.74      0.99      0.85    439962\n",
      "           1       0.96      0.39      0.56    251712\n",
      "\n",
      "    accuracy                           0.77    691674\n",
      "   macro avg       0.85      0.69      0.70    691674\n",
      "weighted avg       0.82      0.77      0.74    691674\n",
      "\n",
      "✅ LSTM Model Accuracy: 77.38%\n"
     ]
    }
   ],
   "source": [
    "# Confusion Matrix\n",
    "conf_matrix = confusion_matrix(y_test_seq, y_pred)\n",
    "plt.figure(figsize=(6, 4))\n",
    "sns.heatmap(conf_matrix, annot=True, fmt='d', cmap='Blues', xticklabels=['Normal', 'DDoS'], yticklabels=['Normal', 'DDoS'])\n",
    "plt.xlabel(\"Predicted\")\n",
    "plt.ylabel(\"Actual\")\n",
    "plt.title(\"Confusion Matrix - Labeled Test Data\")\n",
    "plt.show()\n",
    "\n",
    "# Classification Report\n",
    "print(\"Classification Report:\")\n",
    "print(classification_report(y_test_seq, y_pred))\n",
    "\n",
    "accuracy = accuracy_score(y_test_seq, y_pred)\n",
    "print(f\"✅ LSTM Model Accuracy: {accuracy * 100:.2f}%\")"
   ]
  }
 ],
 "metadata": {
  "kernelspec": {
   "display_name": "myenv",
   "language": "python",
   "name": "python3"
  },
  "language_info": {
   "codemirror_mode": {
    "name": "ipython",
    "version": 3
   },
   "file_extension": ".py",
   "mimetype": "text/x-python",
   "name": "python",
   "nbconvert_exporter": "python",
   "pygments_lexer": "ipython3",
   "version": "3.12.2"
  }
 },
 "nbformat": 4,
 "nbformat_minor": 2
}
